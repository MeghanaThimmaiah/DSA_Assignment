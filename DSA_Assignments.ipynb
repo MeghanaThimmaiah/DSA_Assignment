{
 "cells": [
  {
   "cell_type": "code",
   "execution_count": 3,
   "id": "afe9c4e8",
   "metadata": {},
   "outputs": [
    {
     "name": "stdout",
     "output_type": "stream",
     "text": [
      "Count of pairs is 2\n"
     ]
    }
   ],
   "source": [
    "#Q1. Write a program to find all pairs of an integer array whose sum is equal to a given number?"
   ]
  },
  {
   "cell_type": "code",
   "execution_count": 25,
   "id": "e5e6d073",
   "metadata": {},
   "outputs": [
    {
     "name": "stdout",
     "output_type": "stream",
     "text": [
      "Count of pairs is 2\n"
     ]
    }
   ],
   "source": [
    "def getCount(arr, n, sum):\n",
    " \n",
    "    count = 0 \n",
    "    for i in range(0, n):\n",
    "        for j in range(i + 1, n):\n",
    "            if arr[i] + arr[j] == sum:\n",
    "                count += 1 \n",
    "    return count \n",
    "\n",
    "# Driver function\n",
    "\n",
    "arr = [2, 6, 3, 1, 4]\n",
    "n = len(arr)\n",
    "sum = 5\n",
    "print(\"Count of pairs is\",\n",
    "      getCount(arr, n, sum))"
   ]
  },
  {
   "cell_type": "code",
   "execution_count": null,
   "id": "31ad494e",
   "metadata": {},
   "outputs": [],
   "source": [
    "#Q2  Write a program to reverse an array in place? In place means you cannot create a new array. You have to update the original array."
   ]
  },
  {
   "cell_type": "code",
   "execution_count": 10,
   "id": "24c75bfb",
   "metadata": {},
   "outputs": [
    {
     "name": "stdout",
     "output_type": "stream",
     "text": [
      "[1, 2, 3, 4]\n",
      "Reversed list is\n",
      "[4, 3, 2, 1]\n"
     ]
    }
   ],
   "source": [
    "def reverseList(L, start, end):\n",
    "    while start < end:\n",
    "        L[start], L[end] = L[end], L[start]\n",
    "        start += 1\n",
    "        end -= 1\n",
    " \n",
    "# Driver function\n",
    "L= [1, 2, 3, 4]\n",
    "print(L)\n",
    "reverseList(L, 0, 3)\n",
    "print(\"Reversed list is\")\n",
    "print(L)"
   ]
  },
  {
   "cell_type": "code",
   "execution_count": null,
   "id": "92685930",
   "metadata": {},
   "outputs": [],
   "source": [
    "#Q3  Write a program to check if two strings are a rotation of each other?"
   ]
  },
  {
   "cell_type": "code",
   "execution_count": 12,
   "id": "df948eca",
   "metadata": {},
   "outputs": [
    {
     "name": "stdout",
     "output_type": "stream",
     "text": [
      "Strings are rotations of each other\n"
     ]
    }
   ],
   "source": [
    "def rRotations(string1, string2):\n",
    "    size1 = len(string1)\n",
    "    size2 = len(string2)\n",
    "    temp = ''\n",
    " \n",
    "    # Check if sizes of two strings are same\n",
    "    if size1 != size2:\n",
    "        return 0\n",
    " \n",
    "    # Create a temp string with value str1.str1\n",
    "    temp = string1 + string1\n",
    " \n",
    "    # Now check if str2 is a substring of temp\n",
    "    # string.count returns the number of occurrences of\n",
    "    # the second string in temp\n",
    "    if (temp.count(string2)> 0):\n",
    "        return 1\n",
    "    else:\n",
    "        return 0\n",
    " \n",
    "# Driver program to test the above function\n",
    "string1 = \"AACD\"\n",
    "string2 = \"ACDA\"\n",
    " \n",
    "if areRotations(string1, string2):\n",
    "    print (\"Strings are rotations of each other\")\n",
    "else:\n",
    "    print (\"Strings are not rotations of each other\")"
   ]
  },
  {
   "cell_type": "code",
   "execution_count": null,
   "id": "94bb3b27",
   "metadata": {},
   "outputs": [],
   "source": [
    "#Q4 Write a program to print the first non-repeated character from a string?"
   ]
  },
  {
   "cell_type": "code",
   "execution_count": 14,
   "id": "b5652fe0",
   "metadata": {},
   "outputs": [
    {
     "name": "stdout",
     "output_type": "stream",
     "text": [
      "First non-repeating character is f\n"
     ]
    }
   ],
   "source": [
    "# Python program to print the first non-repeating character\n",
    "NO_OF_CHARS = 256\n",
    " \n",
    "# Returns an array of size 256 containing count\n",
    "# of characters in the passed char array\n",
    "def getCharCountArray(s):\n",
    "    count = [0] * NO_OF_CHARS\n",
    "    for i in s:\n",
    "        count[ord(i)]+= 1\n",
    "    return count\n",
    " \n",
    "# The function returns index of first non-repeating\n",
    "# character in a string. If all characters are repeating\n",
    "# then returns -1\n",
    "def firstNonRepeating(s):\n",
    "    count = getCharCountArray(s)\n",
    "    index = -1\n",
    "    k = 0\n",
    " \n",
    "    for i in s:\n",
    "        if count[ord(i)] == 1:\n",
    "            index = k\n",
    "            break\n",
    "        k += 1\n",
    " \n",
    "    return index\n",
    " \n",
    "# Driver program to test above function\n",
    "s = \"geeksforgeeks\"\n",
    "index = firstNonRepeating(s)\n",
    "if index == 1:\n",
    "    print (\"Either all characters are repeating or string is empty\")\n",
    "else:\n",
    "    print (\"First non-repeating character is\" , s[index])"
   ]
  },
  {
   "cell_type": "code",
   "execution_count": null,
   "id": "899dd9c6",
   "metadata": {},
   "outputs": [],
   "source": [
    "#Q5 Read about the Tower of Hanoi algorithm. Write a program to implement it."
   ]
  },
  {
   "cell_type": "code",
   "execution_count": 15,
   "id": "48a5abb5",
   "metadata": {},
   "outputs": [
    {
     "name": "stdout",
     "output_type": "stream",
     "text": [
      "Move disk 1 from rod A to rod B\n",
      "Move disk 2 from rod A to rod C\n",
      "Move disk 1 from rod B to rod C\n",
      "Move disk 3 from rod A to rod B\n",
      "Move disk 1 from rod C to rod A\n",
      "Move disk 2 from rod C to rod B\n",
      "Move disk 1 from rod A to rod B\n",
      "Move disk 4 from rod A to rod C\n",
      "Move disk 1 from rod B to rod C\n",
      "Move disk 2 from rod B to rod A\n",
      "Move disk 1 from rod C to rod A\n",
      "Move disk 3 from rod B to rod C\n",
      "Move disk 1 from rod A to rod B\n",
      "Move disk 2 from rod A to rod C\n",
      "Move disk 1 from rod B to rod C\n"
     ]
    }
   ],
   "source": [
    "def TowerOfHanoi(n , from_rod, to_rod, aux_rod):\n",
    "    if n == 0:\n",
    "        return\n",
    "    TowerOfHanoi(n-1, from_rod, aux_rod, to_rod)\n",
    "    print(\"Move disk\",n,\"from rod\",from_rod,\"to rod\",to_rod)\n",
    "    TowerOfHanoi(n-1, aux_rod, to_rod, from_rod)\n",
    "         \n",
    "# Driver code\n",
    "n = 4\n",
    "TowerOfHanoi(n, 'A', 'C', 'B')\n",
    "# A, C, B are the name of rods"
   ]
  },
  {
   "cell_type": "code",
   "execution_count": null,
   "id": "edc1fa71",
   "metadata": {},
   "outputs": [],
   "source": [
    "#Q6 Read about infix, prefix, and postfix expressions. Write a program to convert postfix to prefix expression."
   ]
  },
  {
   "cell_type": "code",
   "execution_count": 16,
   "id": "ee935e6a",
   "metadata": {},
   "outputs": [
    {
     "name": "stdout",
     "output_type": "stream",
     "text": [
      "Prefix :  +AB-CD\n"
     ]
    }
   ],
   "source": [
    "def isOperator(x):\n",
    " \n",
    "    if x == \"+\":\n",
    "        return True\n",
    " \n",
    "    if x == \"-\":\n",
    "        return True\n",
    " \n",
    "    if x == \"/\":\n",
    "        return True\n",
    " \n",
    "    if x == \"*\":\n",
    "        return True\n",
    " \n",
    "    return False\n",
    " \n",
    "# Convert postfix to Prefix expression\n",
    " \n",
    " \n",
    "def postToPre(post_exp):\n",
    " \n",
    "    s = []\n",
    " \n",
    "    # length of expression\n",
    "    length = len(post_exp)\n",
    " \n",
    "    # reading from right to left\n",
    "    for i in range(length):\n",
    " \n",
    "        # check if symbol is operator\n",
    "        if (isOperator(post_exp[i])):\n",
    " \n",
    "            # pop two operands from stack\n",
    "            op1 = s[-1]\n",
    "            s.pop()\n",
    "            op2 = s[-1]\n",
    "            s.pop()\n",
    " \n",
    "            # concat the operands and operator\n",
    "            temp = post_exp[i] + op2 + op1\n",
    " \n",
    "            # Push string temp back to stack\n",
    "            s.append(temp)\n",
    " \n",
    "        # if symbol is an operand\n",
    "        else:\n",
    " \n",
    "            # push the operand to the stack\n",
    "            s.append(post_exp[i])\n",
    " \n",
    "    \n",
    "    ans = \"\"\n",
    "    for i in s:\n",
    "        ans += i\n",
    "    return ans\n",
    " \n",
    " \n",
    "# Driver function\n",
    "if __name__ == \"__main__\":\n",
    " \n",
    "    post_exp = \"AB+CD-\"\n",
    "     \n",
    "    # Function call\n",
    "    print(\"Prefix : \", postToPre(post_exp))"
   ]
  },
  {
   "cell_type": "code",
   "execution_count": null,
   "id": "a1003792",
   "metadata": {},
   "outputs": [],
   "source": [
    "#Q7  Write a program to convert prefix expression to infix expression."
   ]
  },
  {
   "cell_type": "code",
   "execution_count": 17,
   "id": "68582cac",
   "metadata": {},
   "outputs": [
    {
     "name": "stdout",
     "output_type": "stream",
     "text": [
      "((A-(B/C))*((A/K)-L))\n"
     ]
    }
   ],
   "source": [
    "# Python Program to convert prefix to Infix\n",
    "def prefixToInfix(prefix):\n",
    "    stack = []\n",
    "     \n",
    "    # read prefix in reverse order\n",
    "    i = len(prefix) - 1\n",
    "    while i >= 0:\n",
    "        if not isOperator(prefix[i]):\n",
    "             \n",
    "            # symbol is operand\n",
    "            stack.append(prefix[i])\n",
    "            i -= 1\n",
    "        else:\n",
    "           \n",
    "            # symbol is operator\n",
    "            str = \"(\" + stack.pop() + prefix[i] + stack.pop() + \")\"\n",
    "            stack.append(str)\n",
    "            i -= 1\n",
    "     \n",
    "    return stack.pop()\n",
    " \n",
    "def isOperator(c):\n",
    "    if c == \"*\" or c == \"+\" or c == \"-\" or c == \"/\" or c == \"^\" or c == \"(\" or c == \")\":\n",
    "        return True\n",
    "    else:\n",
    "        return False\n",
    " \n",
    "# Driver function\n",
    "if __name__==\"__main__\":\n",
    "    str = \"*-A/BC-/AKL\"\n",
    "    print(prefixToInfix(str))"
   ]
  },
  {
   "cell_type": "code",
   "execution_count": null,
   "id": "b065c84f",
   "metadata": {},
   "outputs": [],
   "source": [
    "#Q8 Write a program to check if all the brackets are closed in a given code snippet."
   ]
  },
  {
   "cell_type": "code",
   "execution_count": 18,
   "id": "3270b825",
   "metadata": {},
   "outputs": [
    {
     "name": "stdout",
     "output_type": "stream",
     "text": [
      "Balanced\n"
     ]
    }
   ],
   "source": [
    "# function to check if\n",
    "# brackets are balanced\n",
    "  \n",
    "def areBracketsBalanced(expr):\n",
    "    stack = []\n",
    " \n",
    "    # Traversing the Expression\n",
    "    for char in expr:\n",
    "        if char in [\"(\", \"{\", \"[\"]:\n",
    " \n",
    "            # Push the element in the stack\n",
    "            stack.append(char)\n",
    "        else:\n",
    " \n",
    "            # IF current character is not opening\n",
    "            # bracket, then it must be closing.\n",
    "            # So stack cannot be empty at this point.\n",
    "            if not stack:\n",
    "                return False\n",
    "            current_char = stack.pop()\n",
    "            if current_char == '(':\n",
    "                if char != \")\":\n",
    "                    return False\n",
    "            if current_char == '{':\n",
    "                if char != \"}\":\n",
    "                    return False\n",
    "            if current_char == '[':\n",
    "                if char != \"]\":\n",
    "                    return False\n",
    " \n",
    "    # Check Empty Stack\n",
    "    if stack:\n",
    "        return False\n",
    "    return True\n",
    " \n",
    " \n",
    "# Driver code\n",
    "if __name__ == \"__main__\":\n",
    "    expr = \"{()}[]\"\n",
    " \n",
    "    # Function call\n",
    "    if areBracketsBalanced(expr):\n",
    "        print(\"Balanced\")\n",
    "    else:\n",
    "        print(\"Not Balanced\")"
   ]
  },
  {
   "cell_type": "code",
   "execution_count": null,
   "id": "434596f6",
   "metadata": {},
   "outputs": [],
   "source": [
    "#Q9 Write a program to reverse a stack."
   ]
  },
  {
   "cell_type": "code",
   "execution_count": 23,
   "id": "3d18b2f5",
   "metadata": {},
   "outputs": [
    {
     "name": "stdout",
     "output_type": "stream",
     "text": [
      "Original Stack\n",
      "5\n",
      "4\n",
      "3\n",
      "2\n",
      "1\n",
      "\n",
      "Stack after Reversing\n",
      "1\n",
      "2\n",
      "3\n",
      "4\n",
      "5\n"
     ]
    }
   ],
   "source": [
    "class Stack:\n",
    " \n",
    "    \n",
    "    def __init__(self):\n",
    "        self.Elements = []\n",
    "         \n",
    "    \n",
    "    def push(self, value):\n",
    "        self.Elements.append(value)\n",
    "       \n",
    "    \n",
    "    def pop(self):\n",
    "        return self.Elements.pop()\n",
    "     \n",
    "    \n",
    "    def empty(self):\n",
    "        return self.Elements == []\n",
    "     \n",
    "    \n",
    "    def show(self):\n",
    "        for value in reversed(self.Elements):\n",
    "            print(value)\n",
    " \n",
    "# insert value at bottom\n",
    "def BottomInsert(s, value):\n",
    "   \n",
    "    if s.empty():\n",
    "         s.push(value)\n",
    "    else:\n",
    "        popped = s.pop()\n",
    "        BottomInsert(s, value)\n",
    "        s.push(popped)\n",
    " \n",
    "# reverse the stack\n",
    "def Reverse(s):\n",
    "    if s.empty():\n",
    "        pass\n",
    "    else:\n",
    "        popped = s.pop()\n",
    "        Reverse(s)\n",
    "        BottomInsert(s, popped)\n",
    " \n",
    " \n",
    "\n",
    "stack = Stack()\n",
    " \n",
    "stack .push(1)\n",
    "stack .push(2)\n",
    "stack .push(3)\n",
    "stack .push(4)\n",
    "stack .push(5)\n",
    " \n",
    "print(\"Original Stack\")\n",
    "stack .show()\n",
    " \n",
    "print(\"\\nStack after Reversing\")\n",
    "Reverse(stack )\n",
    "stack .show()"
   ]
  },
  {
   "cell_type": "code",
   "execution_count": null,
   "id": "fb63c639",
   "metadata": {},
   "outputs": [],
   "source": [
    "#Q10 Write a program to find the smallest number using a stack"
   ]
  },
  {
   "cell_type": "code",
   "execution_count": 24,
   "id": "1c89cedc",
   "metadata": {},
   "outputs": [
    {
     "name": "stdout",
     "output_type": "stream",
     "text": [
      "Smallest number is :  1\n"
     ]
    }
   ],
   "source": [
    "from collections import deque\n",
    "\n",
    "\n",
    "class MinStack:\n",
    "    def __init__(self):\n",
    "        self.s = deque()\n",
    "        self.min = None\n",
    "\n",
    "\n",
    "    def push(self, val):\n",
    "        if not self.s:\n",
    "            self.s.append(val)\n",
    "            self.min = val\n",
    "        elif val > self.min:\n",
    "            self.s.append(val)\n",
    "        else:\n",
    "            self.s.append(2*val - self.min)\n",
    "            self.min = val\n",
    "\n",
    "\n",
    "    def pop(self):\n",
    "        if not self.s:\n",
    "            self.print('Stack underflow!!')\n",
    "            exit(-1)\n",
    "        top = self.s[-1]\n",
    "        if top < self.min:\n",
    "            self.min = 2*self.min - top\n",
    "        self.s.pop()\n",
    "\n",
    "\n",
    "    def getMin(self):\n",
    "        return self.min\n",
    "\n",
    "\n",
    "\n",
    "\n",
    "s = MinStack()\n",
    "\n",
    "s.push(5)\n",
    "s.push(9)\n",
    "s.push(1)\n",
    "s.push(3)\n",
    "\n",
    "print(\"Smallest number is : \",s.getMin())\n"
   ]
  },
  {
   "cell_type": "code",
   "execution_count": null,
   "id": "ce1e897f",
   "metadata": {},
   "outputs": [],
   "source": []
  }
 ],
 "metadata": {
  "kernelspec": {
   "display_name": "Python 3 (ipykernel)",
   "language": "python",
   "name": "python3"
  },
  "language_info": {
   "codemirror_mode": {
    "name": "ipython",
    "version": 3
   },
   "file_extension": ".py",
   "mimetype": "text/x-python",
   "name": "python",
   "nbconvert_exporter": "python",
   "pygments_lexer": "ipython3",
   "version": "3.10.2"
  }
 },
 "nbformat": 4,
 "nbformat_minor": 5
}
